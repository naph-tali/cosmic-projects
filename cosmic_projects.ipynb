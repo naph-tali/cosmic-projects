{
  "nbformat": 4,
  "nbformat_minor": 0,
  "metadata": {
    "colab": {
      "provenance": [],
      "toc_visible": true,
      "mount_file_id": "1C-5ZG2FtEHGYObRjlsZlTjUtCW5vovTn",
      "authorship_tag": "ABX9TyMDkafJCK+yKwcdC+UOAk7x",
      "include_colab_link": true
    },
    "kernelspec": {
      "name": "python3",
      "display_name": "Python 3"
    },
    "language_info": {
      "name": "python"
    }
  },
  "cells": [
    {
      "cell_type": "markdown",
      "metadata": {
        "id": "view-in-github",
        "colab_type": "text"
      },
      "source": [
        "<a href=\"https://colab.research.google.com/github/naph-tali/cosmic-projects/blob/main/cosmic_projects.ipynb\" target=\"_parent\"><img src=\"https://colab.research.google.com/assets/colab-badge.svg\" alt=\"Open In Colab\"/></a>"
      ]
    },
    {
      "cell_type": "code",
      "source": [
        "# 🌌 COSMIC COLAB INTEGRATION\n",
        "# SPIRIT PON THE CLOUD COMPUTATION!\n",
        "\n",
        "!pip install google-generativeai\n",
        "!pip install transformers torch sentencepiece\n",
        "!pip install numpy pandas matplotlib\n",
        "\n",
        "import google.generativeai as genai\n",
        "import os\n",
        "import requests\n",
        "import json\n",
        "import numpy as np\n",
        "import pandas as pd\n",
        "from typing import Dict, List, Any"
      ],
      "metadata": {
        "colab": {
          "base_uri": "https://localhost:8080/"
        },
        "id": "1yg0QfKRWzPo",
        "outputId": "db5e5b83-8fc6-4f27-deff-d4078ed73947"
      },
      "execution_count": null,
      "outputs": [
        {
          "output_type": "stream",
          "name": "stdout",
          "text": [
            "Requirement already satisfied: google-generativeai in /usr/local/lib/python3.12/dist-packages (0.8.5)\n",
            "Requirement already satisfied: google-ai-generativelanguage==0.6.15 in /usr/local/lib/python3.12/dist-packages (from google-generativeai) (0.6.15)\n",
            "Requirement already satisfied: google-api-core in /usr/local/lib/python3.12/dist-packages (from google-generativeai) (2.27.0)\n",
            "Requirement already satisfied: google-api-python-client in /usr/local/lib/python3.12/dist-packages (from google-generativeai) (2.185.0)\n",
            "Requirement already satisfied: google-auth>=2.15.0 in /usr/local/lib/python3.12/dist-packages (from google-generativeai) (2.38.0)\n",
            "Requirement already satisfied: protobuf in /usr/local/lib/python3.12/dist-packages (from google-generativeai) (5.29.5)\n",
            "Requirement already satisfied: pydantic in /usr/local/lib/python3.12/dist-packages (from google-generativeai) (2.11.10)\n",
            "Requirement already satisfied: tqdm in /usr/local/lib/python3.12/dist-packages (from google-generativeai) (4.67.1)\n",
            "Requirement already satisfied: typing-extensions in /usr/local/lib/python3.12/dist-packages (from google-generativeai) (4.15.0)\n",
            "Requirement already satisfied: proto-plus<2.0.0dev,>=1.22.3 in /usr/local/lib/python3.12/dist-packages (from google-ai-generativelanguage==0.6.15->google-generativeai) (1.26.1)\n",
            "Requirement already satisfied: googleapis-common-protos<2.0.0,>=1.56.2 in /usr/local/lib/python3.12/dist-packages (from google-api-core->google-generativeai) (1.71.0)\n",
            "Requirement already satisfied: requests<3.0.0,>=2.18.0 in /usr/local/lib/python3.12/dist-packages (from google-api-core->google-generativeai) (2.32.4)\n",
            "Requirement already satisfied: cachetools<6.0,>=2.0.0 in /usr/local/lib/python3.12/dist-packages (from google-auth>=2.15.0->google-generativeai) (5.5.2)\n",
            "Requirement already satisfied: pyasn1-modules>=0.2.1 in /usr/local/lib/python3.12/dist-packages (from google-auth>=2.15.0->google-generativeai) (0.4.2)\n",
            "Requirement already satisfied: rsa<5,>=3.1.4 in /usr/local/lib/python3.12/dist-packages (from google-auth>=2.15.0->google-generativeai) (4.9.1)\n",
            "Requirement already satisfied: httplib2<1.0.0,>=0.19.0 in /usr/local/lib/python3.12/dist-packages (from google-api-python-client->google-generativeai) (0.31.0)\n",
            "Requirement already satisfied: google-auth-httplib2<1.0.0,>=0.2.0 in /usr/local/lib/python3.12/dist-packages (from google-api-python-client->google-generativeai) (0.2.0)\n",
            "Requirement already satisfied: uritemplate<5,>=3.0.1 in /usr/local/lib/python3.12/dist-packages (from google-api-python-client->google-generativeai) (4.2.0)\n",
            "Requirement already satisfied: annotated-types>=0.6.0 in /usr/local/lib/python3.12/dist-packages (from pydantic->google-generativeai) (0.7.0)\n",
            "Requirement already satisfied: pydantic-core==2.33.2 in /usr/local/lib/python3.12/dist-packages (from pydantic->google-generativeai) (2.33.2)\n",
            "Requirement already satisfied: typing-inspection>=0.4.0 in /usr/local/lib/python3.12/dist-packages (from pydantic->google-generativeai) (0.4.2)\n",
            "Requirement already satisfied: grpcio<2.0.0,>=1.33.2 in /usr/local/lib/python3.12/dist-packages (from google-api-core[grpc]!=2.0.*,!=2.1.*,!=2.10.*,!=2.2.*,!=2.3.*,!=2.4.*,!=2.5.*,!=2.6.*,!=2.7.*,!=2.8.*,!=2.9.*,<3.0.0dev,>=1.34.1->google-ai-generativelanguage==0.6.15->google-generativeai) (1.76.0)\n",
            "Requirement already satisfied: grpcio-status<2.0.0,>=1.33.2 in /usr/local/lib/python3.12/dist-packages (from google-api-core[grpc]!=2.0.*,!=2.1.*,!=2.10.*,!=2.2.*,!=2.3.*,!=2.4.*,!=2.5.*,!=2.6.*,!=2.7.*,!=2.8.*,!=2.9.*,<3.0.0dev,>=1.34.1->google-ai-generativelanguage==0.6.15->google-generativeai) (1.71.2)\n",
            "Requirement already satisfied: pyparsing<4,>=3.0.4 in /usr/local/lib/python3.12/dist-packages (from httplib2<1.0.0,>=0.19.0->google-api-python-client->google-generativeai) (3.2.5)\n",
            "Requirement already satisfied: pyasn1<0.7.0,>=0.6.1 in /usr/local/lib/python3.12/dist-packages (from pyasn1-modules>=0.2.1->google-auth>=2.15.0->google-generativeai) (0.6.1)\n",
            "Requirement already satisfied: charset_normalizer<4,>=2 in /usr/local/lib/python3.12/dist-packages (from requests<3.0.0,>=2.18.0->google-api-core->google-generativeai) (3.4.4)\n",
            "Requirement already satisfied: idna<4,>=2.5 in /usr/local/lib/python3.12/dist-packages (from requests<3.0.0,>=2.18.0->google-api-core->google-generativeai) (3.11)\n",
            "Requirement already satisfied: urllib3<3,>=1.21.1 in /usr/local/lib/python3.12/dist-packages (from requests<3.0.0,>=2.18.0->google-api-core->google-generativeai) (2.5.0)\n",
            "Requirement already satisfied: certifi>=2017.4.17 in /usr/local/lib/python3.12/dist-packages (from requests<3.0.0,>=2.18.0->google-api-core->google-generativeai) (2025.10.5)\n"
          ]
        }
      ]
    },
    {
      "cell_type": "code",
      "source": [
        "# 🌟 COSMIC GIT-COLAB BRIDGE\n",
        "# Complete integration between your existing git repos and Google Colab\n",
        "\n",
        "print(\"🚀 DEPLOYING COSMIC GIT-COLAB INTEGRATION...\")\n",
        "print(\"🔥 SPIRIT PON THE VERSION CONTROL!\")"
      ],
      "metadata": {
        "colab": {
          "base_uri": "https://localhost:8080/"
        },
        "id": "yLtWLyJ_ck1_",
        "outputId": "19545ff5-6b9c-4469-b094-4798a162ad25"
      },
      "execution_count": null,
      "outputs": [
        {
          "output_type": "stream",
          "name": "stdout",
          "text": [
            "🚀 DEPLOYING COSMIC GIT-COLAB INTEGRATION...\n",
            "🔥 SPIRIT PON THE VERSION CONTROL!\n"
          ]
        }
      ]
    },
    {
      "cell_type": "code",
      "source": [
        "# 📊 CHECK CURRENT GIT REPOSITORY STATUS\n",
        "import subprocess\n",
        "import os\n",
        "\n",
        "def check_git_status():\n",
        "    \"\"\"Check the status of both cosmic repositories\"\"\"\n",
        "    print(\"🔍 CHECKING GIT REPOSITORY STATUS...\")\n",
        "\n",
        "    repos = {\n",
        "        \"ContentCreationRevolution\": \"/content/drive/MyDrive/ContentCreationRevolution\",\n",
        "        \"cosmic-projects\": \"/content/drive/MyDrive/cosmic-projects\"\n",
        "    }\n",
        "\n",
        "    status_report = {}\n",
        "\n",
        "    for repo_name, repo_path in repos.items():\n",
        "        print(f\"\\n📁 {repo_name}:\")\n",
        "\n",
        "        if os.path.exists(repo_path):\n",
        "            try:\n",
        "                # Check if it's a git repository\n",
        "                result = subprocess.run(\n",
        "                    [\"git\", \"-C\", repo_path, \"status\"],\n",
        "                    capture_output=True, text=True\n",
        "                )\n",
        "\n",
        "                if result.returncode == 0:\n",
        "                    # Get current branch\n",
        "                    branch_result = subprocess.run(\n",
        "                        [\"git\", \"-C\", repo_path, \"branch\", \"--show-current\"],\n",
        "                        capture_output=True, text=True\n",
        "                    )\n",
        "                    current_branch = branch_result.stdout.strip()\n",
        "\n",
        "                    # Get latest commit\n",
        "                    commit_result = subprocess.run(\n",
        "                        [\"git\", \"-C\", repo_path, \"log\", \"-1\", \"--oneline\"],\n",
        "                        capture_output=True, text=True\n",
        "                    )\n",
        "                    latest_commit = commit_result.stdout.strip()\n",
        "\n",
        "                    print(f\"   ✅ Git Repository: ACTIVE\")\n",
        "                    print(f\"   🌿 Branch: {current_branch}\")\n",
        "                    print(f\"   📝 Latest: {latest_commit}\")\n",
        "\n",
        "                    status_report[repo_name] = {\n",
        "                        \"status\": \"active\",\n",
        "                        \"branch\": current_branch,\n",
        "                        \"latest_commit\": latest_commit\n",
        "                    }\n",
        "\n",
        "                else:\n",
        "                    print(f\"   ⚠️  Not a git repository\")\n",
        "                    status_report[repo_name] = {\"status\": \"not_git\"}\n",
        "\n",
        "            except Exception as e:\n",
        "                print(f\"   ❌ Error: {e}\")\n",
        "                status_report[repo_name] = {\"status\": \"error\", \"error\": str(e)}\n",
        "        else:\n",
        "            print(f\"   ❌ Directory not found\")\n",
        "            status_report[repo_name] = {\"status\": \"not_found\"}\n",
        "\n",
        "    return status_report\n",
        "\n",
        "# Run git status check\n",
        "git_status = check_git_status()"
      ],
      "metadata": {
        "colab": {
          "base_uri": "https://localhost:8080/"
        },
        "id": "vWlnlWSyqyks",
        "outputId": "a9e34601-5444-487a-a346-7b3ccaa90630"
      },
      "execution_count": 2,
      "outputs": [
        {
          "output_type": "stream",
          "name": "stdout",
          "text": [
            "🔍 CHECKING GIT REPOSITORY STATUS...\n",
            "\n",
            "📁 ContentCreationRevolution:\n",
            "   ❌ Directory not found\n",
            "\n",
            "📁 cosmic-projects:\n",
            "   ❌ Directory not found\n"
          ]
        }
      ]
    }
  ]
}